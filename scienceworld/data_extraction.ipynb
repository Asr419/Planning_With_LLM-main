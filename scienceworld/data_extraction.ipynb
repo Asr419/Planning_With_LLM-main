{
 "cells": [
  {
   "cell_type": "code",
   "execution_count": 1,
   "metadata": {},
   "outputs": [],
   "source": [
    "import os, re\n",
    "import pandas as pd\n",
    "import glob"
   ]
  },
  {
   "cell_type": "code",
   "execution_count": 2,
   "metadata": {},
   "outputs": [],
   "source": [
    "import re\n",
    "import pandas as pd\n",
    "\n",
    "def extract_data(file_path):\n",
    "    with open(file_path, 'r', encoding='utf-8') as file:\n",
    "        log_content = file.read()\n",
    "\n",
    "    # Split log by task descriptions\n",
    "    task_sections = re.split(r'(Task Description:.*?)(?=\\n\\d{4}-\\d{2}-\\d{2})', log_content, flags=re.DOTALL)\n",
    "\n",
    "    data = []\n",
    "    for i in range(1, len(task_sections), 2):\n",
    "        task_description = task_sections[i].strip()\n",
    "        if task_description.startswith('Task Description:\\n'):\n",
    "            task_description = task_description[len('Task Description:\\n'):].strip()\n",
    "        steps_content = task_sections[i + 1].strip()\n",
    "\n",
    "      \n",
    "        steps = re.findall(r'Output by GPT: (.*?)\\n.*?Action given by GPT: (.*?)\\n.*?Step: (\\d+).*?Observation:\\s*>>>([\\s\\S]*?)(?=\\n\\d{4}-\\d{2}-\\d{2}|\\Z)\\n.*?Reward: (-?\\d+)\\n.*?Score: (-?\\d+)', steps_content, re.DOTALL)\n",
    "\n",
    "        for step in steps:\n",
    "            step_num = int(step[2])\n",
    "            thought_action = step[0].split('Action:', 1)\n",
    "            thought = thought_action[0].replace('Thought:', '').strip()\n",
    "            action = re.split(r'\\n', step[1].strip())[0] \n",
    "\n",
    "            full_observation = step[3].strip()\n",
    "          \n",
    "            reward=int(step[4])\n",
    "            score=int(step[5])\n",
    "            \n",
    "\n",
    "            \n",
    "            data.append({\n",
    "                'task_description': task_description,\n",
    "                'step': step_num,\n",
    "                'thought': thought,\n",
    "                'action': action,\n",
    "                'observation': full_observation,\n",
    "                'reward': reward,\n",
    "                'score': score\n",
    "            })\n",
    "    \n",
    "    df = pd.DataFrame(data)\n",
    "    df = df[df['action'].str.strip() != 'task'].reset_index(drop=True)\n",
    "    return df[['task_description', 'step', 'thought', 'action', 'observation', 'reward', 'score']]"
   ]
  },
  {
   "cell_type": "code",
   "execution_count": 3,
   "metadata": {},
   "outputs": [],
   "source": [
    "def process_files_in_folder(folder_path):\n",
    "    combined_df = pd.DataFrame()\n",
    "    \n",
    "    # Get list of all files in the folder\n",
    "    file_paths = glob.glob(os.path.join(folder_path, '*.log'))\n",
    "    file_paths.remove(os.path.join(folder_path, 'results_data_10.log'))\n",
    " \n",
    "    \n",
    "    for file_path in file_paths:\n",
    "        df = extract_data(file_path)\n",
    "        combined_df = pd.concat([combined_df, df], ignore_index=True)\n",
    "    \n",
    "    return combined_df"
   ]
  },
  {
   "cell_type": "code",
   "execution_count": 4,
   "metadata": {},
   "outputs": [],
   "source": [
    "folder_path = 'logs_sc/react/train_data' \n",
    "combined_df = process_files_in_folder(folder_path)"
   ]
  },
  {
   "cell_type": "code",
   "execution_count": 5,
   "metadata": {},
   "outputs": [
    {
     "data": {
      "text/html": [
       "<div>\n",
       "<style scoped>\n",
       "    .dataframe tbody tr th:only-of-type {\n",
       "        vertical-align: middle;\n",
       "    }\n",
       "\n",
       "    .dataframe tbody tr th {\n",
       "        vertical-align: top;\n",
       "    }\n",
       "\n",
       "    .dataframe thead th {\n",
       "        text-align: right;\n",
       "    }\n",
       "</style>\n",
       "<table border=\"1\" class=\"dataframe\">\n",
       "  <thead>\n",
       "    <tr style=\"text-align: right;\">\n",
       "      <th></th>\n",
       "      <th>task_description</th>\n",
       "      <th>step</th>\n",
       "      <th>thought</th>\n",
       "      <th>action</th>\n",
       "      <th>observation</th>\n",
       "      <th>reward</th>\n",
       "      <th>score</th>\n",
       "    </tr>\n",
       "  </thead>\n",
       "  <tbody>\n",
       "    <tr>\n",
       "      <th>0</th>\n",
       "      <td>Your task is to measure the melting point of m...</td>\n",
       "      <td>1</td>\n",
       "      <td>I need to go to the kitchen to find the blue b...</td>\n",
       "      <td>go to kitchen</td>\n",
       "      <td>You move to the kitchen.</td>\n",
       "      <td>6</td>\n",
       "      <td>6</td>\n",
       "    </tr>\n",
       "    <tr>\n",
       "      <th>1</th>\n",
       "      <td>Your task is to measure the melting point of m...</td>\n",
       "      <td>2</td>\n",
       "      <td>I need to look for the blue box in the kitchen.</td>\n",
       "      <td>look for blue box</td>\n",
       "      <td>No known action matches that input.</td>\n",
       "      <td>0</td>\n",
       "      <td>6</td>\n",
       "    </tr>\n",
       "    <tr>\n",
       "      <th>2</th>\n",
       "      <td>Your task is to measure the melting point of m...</td>\n",
       "      <td>3</td>\n",
       "      <td>I need to find the blue box in the kitchen.</td>\n",
       "      <td>look at blue box</td>\n",
       "      <td>a blue box (containing nothing)</td>\n",
       "      <td>0</td>\n",
       "      <td>6</td>\n",
       "    </tr>\n",
       "    <tr>\n",
       "      <th>3</th>\n",
       "      <td>Your task is to measure the melting point of m...</td>\n",
       "      <td>4</td>\n",
       "      <td>I should focus on the blue box, as instructed,...</td>\n",
       "      <td>focus on blue box</td>\n",
       "      <td>You focus on the blue box.</td>\n",
       "      <td>-106</td>\n",
       "      <td>-100</td>\n",
       "    </tr>\n",
       "    <tr>\n",
       "      <th>4</th>\n",
       "      <td>Your task is to measure the melting point of m...</td>\n",
       "      <td>1</td>\n",
       "      <td>I am currently in the art studio, not the kitc...</td>\n",
       "      <td>go to kitchen</td>\n",
       "      <td>No known action matches that input.</td>\n",
       "      <td>0</td>\n",
       "      <td>0</td>\n",
       "    </tr>\n",
       "    <tr>\n",
       "      <th>...</th>\n",
       "      <td>...</td>\n",
       "      <td>...</td>\n",
       "      <td>...</td>\n",
       "      <td>...</td>\n",
       "      <td>...</td>\n",
       "      <td>...</td>\n",
       "      <td>...</td>\n",
       "    </tr>\n",
       "    <tr>\n",
       "      <th>24184</th>\n",
       "      <td>Your task is to turn on the green light bulb b...</td>\n",
       "      <td>14</td>\n",
       "      <td>I need to examine the nuclear generator and th...</td>\n",
       "      <td>examine nuclear generator</td>\n",
       "      <td>a nuclear generator, which is off. its anode i...</td>\n",
       "      <td>0</td>\n",
       "      <td>10</td>\n",
       "    </tr>\n",
       "    <tr>\n",
       "      <th>24185</th>\n",
       "      <td>Your task is to turn on the green light bulb b...</td>\n",
       "      <td>15</td>\n",
       "      <td>I should connect the green wire to the nuclear...</td>\n",
       "      <td>connect green wire terminal 1 to anode in nucl...</td>\n",
       "      <td>No known action matches that input.</td>\n",
       "      <td>0</td>\n",
       "      <td>10</td>\n",
       "    </tr>\n",
       "    <tr>\n",
       "      <th>24186</th>\n",
       "      <td>Your task is to turn on the green light bulb b...</td>\n",
       "      <td>16</td>\n",
       "      <td>I need to connect the green wire to the nuclea...</td>\n",
       "      <td>connect green wire terminal 1 to anode in nucl...</td>\n",
       "      <td>terminal 1 on green wire is now connected to a...</td>\n",
       "      <td>0</td>\n",
       "      <td>10</td>\n",
       "    </tr>\n",
       "    <tr>\n",
       "      <th>24187</th>\n",
       "      <td>Your task is to turn on the green light bulb b...</td>\n",
       "      <td>17</td>\n",
       "      <td>Now that one end of the green wire is connecte...</td>\n",
       "      <td>connect green wire terminal 2 to green light bulb</td>\n",
       "      <td>Connections must specify specific points of co...</td>\n",
       "      <td>0</td>\n",
       "      <td>10</td>\n",
       "    </tr>\n",
       "    <tr>\n",
       "      <th>24188</th>\n",
       "      <td>Your task is to turn on the green light bulb b...</td>\n",
       "      <td>18</td>\n",
       "      <td>I need to connect the green light bulb to the ...</td>\n",
       "      <td>connect green wire terminal 2 to anode in gree...</td>\n",
       "      <td>terminal 2 on green wire is now connected to a...</td>\n",
       "      <td>10</td>\n",
       "      <td>20</td>\n",
       "    </tr>\n",
       "  </tbody>\n",
       "</table>\n",
       "<p>24189 rows × 7 columns</p>\n",
       "</div>"
      ],
      "text/plain": [
       "                                        task_description  step  \\\n",
       "0      Your task is to measure the melting point of m...     1   \n",
       "1      Your task is to measure the melting point of m...     2   \n",
       "2      Your task is to measure the melting point of m...     3   \n",
       "3      Your task is to measure the melting point of m...     4   \n",
       "4      Your task is to measure the melting point of m...     1   \n",
       "...                                                  ...   ...   \n",
       "24184  Your task is to turn on the green light bulb b...    14   \n",
       "24185  Your task is to turn on the green light bulb b...    15   \n",
       "24186  Your task is to turn on the green light bulb b...    16   \n",
       "24187  Your task is to turn on the green light bulb b...    17   \n",
       "24188  Your task is to turn on the green light bulb b...    18   \n",
       "\n",
       "                                                 thought  \\\n",
       "0      I need to go to the kitchen to find the blue b...   \n",
       "1        I need to look for the blue box in the kitchen.   \n",
       "2            I need to find the blue box in the kitchen.   \n",
       "3      I should focus on the blue box, as instructed,...   \n",
       "4      I am currently in the art studio, not the kitc...   \n",
       "...                                                  ...   \n",
       "24184  I need to examine the nuclear generator and th...   \n",
       "24185  I should connect the green wire to the nuclear...   \n",
       "24186  I need to connect the green wire to the nuclea...   \n",
       "24187  Now that one end of the green wire is connecte...   \n",
       "24188  I need to connect the green light bulb to the ...   \n",
       "\n",
       "                                                  action  \\\n",
       "0                                          go to kitchen   \n",
       "1                                      look for blue box   \n",
       "2                                       look at blue box   \n",
       "3                                      focus on blue box   \n",
       "4                                          go to kitchen   \n",
       "...                                                  ...   \n",
       "24184                          examine nuclear generator   \n",
       "24185  connect green wire terminal 1 to anode in nucl...   \n",
       "24186  connect green wire terminal 1 to anode in nucl...   \n",
       "24187  connect green wire terminal 2 to green light bulb   \n",
       "24188  connect green wire terminal 2 to anode in gree...   \n",
       "\n",
       "                                             observation  reward  score  \n",
       "0                               You move to the kitchen.       6      6  \n",
       "1                    No known action matches that input.       0      6  \n",
       "2                        a blue box (containing nothing)       0      6  \n",
       "3                             You focus on the blue box.    -106   -100  \n",
       "4                    No known action matches that input.       0      0  \n",
       "...                                                  ...     ...    ...  \n",
       "24184  a nuclear generator, which is off. its anode i...       0     10  \n",
       "24185                No known action matches that input.       0     10  \n",
       "24186  terminal 1 on green wire is now connected to a...       0     10  \n",
       "24187  Connections must specify specific points of co...       0     10  \n",
       "24188  terminal 2 on green wire is now connected to a...      10     20  \n",
       "\n",
       "[24189 rows x 7 columns]"
      ]
     },
     "execution_count": 5,
     "metadata": {},
     "output_type": "execute_result"
    }
   ],
   "source": [
    "combined_df"
   ]
  },
  {
   "cell_type": "code",
   "execution_count": 6,
   "metadata": {},
   "outputs": [
    {
     "data": {
      "text/plain": [
       "'a blue box (containing nothing)'"
      ]
     },
     "execution_count": 6,
     "metadata": {},
     "output_type": "execute_result"
    }
   ],
   "source": [
    "combined_df.iloc[2]['observation']"
   ]
  },
  {
   "cell_type": "code",
   "execution_count": null,
   "metadata": {},
   "outputs": [],
   "source": []
  },
  {
   "cell_type": "code",
   "execution_count": 7,
   "metadata": {},
   "outputs": [],
   "source": [
    "def save_dataframe(df, folder_name='pretraining_data', file_name='data.csv'):\n",
    "    # Ensure the directory exists\n",
    "    os.makedirs(folder_name, exist_ok=True)\n",
    "    # Save the DataFrame as a CSV file\n",
    "    file_path = os.path.join(folder_name, file_name)\n",
    "    df.to_csv(file_path, index=False)\n",
    "    print(f'DataFrame saved to {file_path}')"
   ]
  },
  {
   "cell_type": "code",
   "execution_count": 8,
   "metadata": {},
   "outputs": [
    {
     "name": "stdout",
     "output_type": "stream",
     "text": [
      "DataFrame saved to pretraining_data/data.csv\n"
     ]
    }
   ],
   "source": [
    "save_dataframe(combined_df)"
   ]
  },
  {
   "cell_type": "code",
   "execution_count": 9,
   "metadata": {},
   "outputs": [],
   "source": [
    "mini_100=combined_df.head(100)"
   ]
  },
  {
   "cell_type": "code",
   "execution_count": 10,
   "metadata": {},
   "outputs": [
    {
     "name": "stdout",
     "output_type": "stream",
     "text": [
      "DataFrame saved to pretraining_data/mini_data.csv\n"
     ]
    }
   ],
   "source": [
    "save_dataframe(mini_100, file_name='mini_data.csv')"
   ]
  },
  {
   "cell_type": "code",
   "execution_count": null,
   "metadata": {},
   "outputs": [],
   "source": []
  }
 ],
 "metadata": {
  "kernelspec": {
   "display_name": ".venv",
   "language": "python",
   "name": "python3"
  },
  "language_info": {
   "codemirror_mode": {
    "name": "ipython",
    "version": 3
   },
   "file_extension": ".py",
   "mimetype": "text/x-python",
   "name": "python",
   "nbconvert_exporter": "python",
   "pygments_lexer": "ipython3",
   "version": "3.9.13"
  }
 },
 "nbformat": 4,
 "nbformat_minor": 2
}
